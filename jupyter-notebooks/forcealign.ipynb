{
 "cells": [
  {
   "cell_type": "code",
   "execution_count": 3,
   "id": "bdf6a927",
   "metadata": {},
   "outputs": [
    {
     "name": "stderr",
     "output_type": "stream",
     "text": [
      "\n",
      "[notice] A new release of pip is available: 25.1.1 -> 25.2\n",
      "[notice] To update, run: python.exe -m pip install --upgrade pip\n"
     ]
    },
    {
     "name": "stdout",
     "output_type": "stream",
     "text": [
      "Requirement already satisfied: nltk in c:\\users\\justin\\appdata\\local\\programs\\python\\python313\\lib\\site-packages (3.9.1)\n",
      "Requirement already satisfied: click in c:\\users\\justin\\appdata\\local\\programs\\python\\python313\\lib\\site-packages (from nltk) (8.2.1)\n",
      "Requirement already satisfied: joblib in c:\\users\\justin\\appdata\\local\\programs\\python\\python313\\lib\\site-packages (from nltk) (1.5.1)\n",
      "Requirement already satisfied: regex>=2021.8.3 in c:\\users\\justin\\appdata\\local\\programs\\python\\python313\\lib\\site-packages (from nltk) (2024.11.6)\n",
      "Requirement already satisfied: tqdm in c:\\users\\justin\\appdata\\local\\programs\\python\\python313\\lib\\site-packages (from nltk) (4.67.1)\n",
      "Requirement already satisfied: colorama in c:\\users\\justin\\appdata\\roaming\\python\\python313\\site-packages (from click->nltk) (0.4.6)\n"
     ]
    },
    {
     "name": "stderr",
     "output_type": "stream",
     "text": [
      "[nltk_data] Downloading package punkt to\n",
      "[nltk_data]     C:\\Users\\Justin\\AppData\\Roaming\\nltk_data...\n",
      "[nltk_data]   Package punkt is already up-to-date!\n",
      "[nltk_data] Downloading package averaged_perceptron_tagger to\n",
      "[nltk_data]     C:\\Users\\Justin\\AppData\\Roaming\\nltk_data...\n",
      "[nltk_data]   Package averaged_perceptron_tagger is already up-to-\n",
      "[nltk_data]       date!\n",
      "[nltk_data] Downloading package averaged_perceptron_tagger_eng to\n",
      "[nltk_data]     C:\\Users\\Justin\\AppData\\Roaming\\nltk_data...\n",
      "[nltk_data]   Package averaged_perceptron_tagger_eng is already up-to-\n",
      "[nltk_data]       date!\n"
     ]
    },
    {
     "data": {
      "text/plain": [
       "True"
      ]
     },
     "execution_count": 3,
     "metadata": {},
     "output_type": "execute_result"
    }
   ],
   "source": [
    "import os # file management\n",
    "\n",
    "import sys\n",
    "# print(sys.executable)\n",
    "\n",
    "!{sys.executable} -m pip install nltk\n",
    "import nltk\n",
    "nltk.download('punkt')\n",
    "nltk.download('averaged_perceptron_tagger')\n",
    "nltk.download('averaged_perceptron_tagger_eng')"
   ]
  },
  {
   "cell_type": "markdown",
   "id": "109a9d1c",
   "metadata": {},
   "source": [
    "Import libraries:"
   ]
  },
  {
   "cell_type": "code",
   "execution_count": 4,
   "id": "31ad4d79",
   "metadata": {},
   "outputs": [
    {
     "name": "stdout",
     "output_type": "stream",
     "text": [
      "Requirement already satisfied: numpy in c:\\users\\justin\\appdata\\local\\programs\\python\\python313\\lib\\site-packages (2.2.0)\n"
     ]
    },
    {
     "name": "stderr",
     "output_type": "stream",
     "text": [
      "\n",
      "[notice] A new release of pip is available: 25.1.1 -> 25.2\n",
      "[notice] To update, run: python.exe -m pip install --upgrade pip\n"
     ]
    },
    {
     "name": "stdout",
     "output_type": "stream",
     "text": [
      "Requirement already satisfied: pandas in c:\\users\\justin\\appdata\\local\\programs\\python\\python313\\lib\\site-packages (2.3.0)\n",
      "Requirement already satisfied: numpy>=1.26.0 in c:\\users\\justin\\appdata\\local\\programs\\python\\python313\\lib\\site-packages (from pandas) (2.2.0)\n",
      "Requirement already satisfied: python-dateutil>=2.8.2 in c:\\users\\justin\\appdata\\roaming\\python\\python313\\site-packages (from pandas) (2.9.0.post0)\n",
      "Requirement already satisfied: pytz>=2020.1 in c:\\users\\justin\\appdata\\local\\programs\\python\\python313\\lib\\site-packages (from pandas) (2025.2)\n",
      "Requirement already satisfied: tzdata>=2022.7 in c:\\users\\justin\\appdata\\local\\programs\\python\\python313\\lib\\site-packages (from pandas) (2025.2)\n",
      "Requirement already satisfied: six>=1.5 in c:\\users\\justin\\appdata\\roaming\\python\\python313\\site-packages (from python-dateutil>=2.8.2->pandas) (1.17.0)\n"
     ]
    },
    {
     "name": "stderr",
     "output_type": "stream",
     "text": [
      "\n",
      "[notice] A new release of pip is available: 25.1.1 -> 25.2\n",
      "[notice] To update, run: python.exe -m pip install --upgrade pip\n"
     ]
    },
    {
     "name": "stdout",
     "output_type": "stream",
     "text": [
      "Requirement already satisfied: matplotlib in c:\\users\\justin\\appdata\\local\\programs\\python\\python313\\lib\\site-packages (3.10.3)\n",
      "Requirement already satisfied: contourpy>=1.0.1 in c:\\users\\justin\\appdata\\local\\programs\\python\\python313\\lib\\site-packages (from matplotlib) (1.3.2)\n",
      "Requirement already satisfied: cycler>=0.10 in c:\\users\\justin\\appdata\\local\\programs\\python\\python313\\lib\\site-packages (from matplotlib) (0.12.1)\n",
      "Requirement already satisfied: fonttools>=4.22.0 in c:\\users\\justin\\appdata\\local\\programs\\python\\python313\\lib\\site-packages (from matplotlib) (4.58.4)\n",
      "Requirement already satisfied: kiwisolver>=1.3.1 in c:\\users\\justin\\appdata\\local\\programs\\python\\python313\\lib\\site-packages (from matplotlib) (1.4.8)\n",
      "Requirement already satisfied: numpy>=1.23 in c:\\users\\justin\\appdata\\local\\programs\\python\\python313\\lib\\site-packages (from matplotlib) (2.2.0)\n",
      "Requirement already satisfied: packaging>=20.0 in c:\\users\\justin\\appdata\\roaming\\python\\python313\\site-packages (from matplotlib) (25.0)\n",
      "Requirement already satisfied: pillow>=8 in c:\\users\\justin\\appdata\\local\\programs\\python\\python313\\lib\\site-packages (from matplotlib) (11.2.1)\n",
      "Requirement already satisfied: pyparsing>=2.3.1 in c:\\users\\justin\\appdata\\local\\programs\\python\\python313\\lib\\site-packages (from matplotlib) (3.2.3)\n",
      "Requirement already satisfied: python-dateutil>=2.7 in c:\\users\\justin\\appdata\\roaming\\python\\python313\\site-packages (from matplotlib) (2.9.0.post0)\n",
      "Requirement already satisfied: six>=1.5 in c:\\users\\justin\\appdata\\roaming\\python\\python313\\site-packages (from python-dateutil>=2.7->matplotlib) (1.17.0)\n"
     ]
    },
    {
     "name": "stderr",
     "output_type": "stream",
     "text": [
      "\n",
      "[notice] A new release of pip is available: 25.1.1 -> 25.2\n",
      "[notice] To update, run: python.exe -m pip install --upgrade pip\n"
     ]
    },
    {
     "name": "stdout",
     "output_type": "stream",
     "text": [
      "Requirement already satisfied: seaborn in c:\\users\\justin\\appdata\\local\\programs\\python\\python313\\lib\\site-packages (0.13.2)\n",
      "Requirement already satisfied: numpy!=1.24.0,>=1.20 in c:\\users\\justin\\appdata\\local\\programs\\python\\python313\\lib\\site-packages (from seaborn) (2.2.0)\n",
      "Requirement already satisfied: pandas>=1.2 in c:\\users\\justin\\appdata\\local\\programs\\python\\python313\\lib\\site-packages (from seaborn) (2.3.0)\n",
      "Requirement already satisfied: matplotlib!=3.6.1,>=3.4 in c:\\users\\justin\\appdata\\local\\programs\\python\\python313\\lib\\site-packages (from seaborn) (3.10.3)\n",
      "Requirement already satisfied: contourpy>=1.0.1 in c:\\users\\justin\\appdata\\local\\programs\\python\\python313\\lib\\site-packages (from matplotlib!=3.6.1,>=3.4->seaborn) (1.3.2)\n",
      "Requirement already satisfied: cycler>=0.10 in c:\\users\\justin\\appdata\\local\\programs\\python\\python313\\lib\\site-packages (from matplotlib!=3.6.1,>=3.4->seaborn) (0.12.1)\n",
      "Requirement already satisfied: fonttools>=4.22.0 in c:\\users\\justin\\appdata\\local\\programs\\python\\python313\\lib\\site-packages (from matplotlib!=3.6.1,>=3.4->seaborn) (4.58.4)\n",
      "Requirement already satisfied: kiwisolver>=1.3.1 in c:\\users\\justin\\appdata\\local\\programs\\python\\python313\\lib\\site-packages (from matplotlib!=3.6.1,>=3.4->seaborn) (1.4.8)\n",
      "Requirement already satisfied: packaging>=20.0 in c:\\users\\justin\\appdata\\roaming\\python\\python313\\site-packages (from matplotlib!=3.6.1,>=3.4->seaborn) (25.0)\n",
      "Requirement already satisfied: pillow>=8 in c:\\users\\justin\\appdata\\local\\programs\\python\\python313\\lib\\site-packages (from matplotlib!=3.6.1,>=3.4->seaborn) (11.2.1)\n",
      "Requirement already satisfied: pyparsing>=2.3.1 in c:\\users\\justin\\appdata\\local\\programs\\python\\python313\\lib\\site-packages (from matplotlib!=3.6.1,>=3.4->seaborn) (3.2.3)\n",
      "Requirement already satisfied: python-dateutil>=2.7 in c:\\users\\justin\\appdata\\roaming\\python\\python313\\site-packages (from matplotlib!=3.6.1,>=3.4->seaborn) (2.9.0.post0)\n",
      "Requirement already satisfied: pytz>=2020.1 in c:\\users\\justin\\appdata\\local\\programs\\python\\python313\\lib\\site-packages (from pandas>=1.2->seaborn) (2025.2)\n",
      "Requirement already satisfied: tzdata>=2022.7 in c:\\users\\justin\\appdata\\local\\programs\\python\\python313\\lib\\site-packages (from pandas>=1.2->seaborn) (2025.2)\n",
      "Requirement already satisfied: six>=1.5 in c:\\users\\justin\\appdata\\roaming\\python\\python313\\site-packages (from python-dateutil>=2.7->matplotlib!=3.6.1,>=3.4->seaborn) (1.17.0)\n"
     ]
    },
    {
     "name": "stderr",
     "output_type": "stream",
     "text": [
      "\n",
      "[notice] A new release of pip is available: 25.1.1 -> 25.2\n",
      "[notice] To update, run: python.exe -m pip install --upgrade pip\n"
     ]
    },
    {
     "name": "stdout",
     "output_type": "stream",
     "text": [
      "Requirement already satisfied: librosa in c:\\users\\justin\\appdata\\local\\programs\\python\\python313\\lib\\site-packages (0.11.0)\n",
      "Requirement already satisfied: audioread>=2.1.9 in c:\\users\\justin\\appdata\\local\\programs\\python\\python313\\lib\\site-packages (from librosa) (3.0.1)\n",
      "Requirement already satisfied: numba>=0.51.0 in c:\\users\\justin\\appdata\\local\\programs\\python\\python313\\lib\\site-packages (from librosa) (0.61.2)\n",
      "Requirement already satisfied: numpy>=1.22.3 in c:\\users\\justin\\appdata\\local\\programs\\python\\python313\\lib\\site-packages (from librosa) (2.2.0)\n",
      "Requirement already satisfied: scipy>=1.6.0 in c:\\users\\justin\\appdata\\local\\programs\\python\\python313\\lib\\site-packages (from librosa) (1.16.0)\n",
      "Requirement already satisfied: scikit-learn>=1.1.0 in c:\\users\\justin\\appdata\\local\\programs\\python\\python313\\lib\\site-packages (from librosa) (1.7.0)\n",
      "Requirement already satisfied: joblib>=1.0 in c:\\users\\justin\\appdata\\local\\programs\\python\\python313\\lib\\site-packages (from librosa) (1.5.1)\n",
      "Requirement already satisfied: decorator>=4.3.0 in c:\\users\\justin\\appdata\\roaming\\python\\python313\\site-packages (from librosa) (5.2.1)\n",
      "Requirement already satisfied: soundfile>=0.12.1 in c:\\users\\justin\\appdata\\local\\programs\\python\\python313\\lib\\site-packages (from librosa) (0.13.1)\n",
      "Requirement already satisfied: pooch>=1.1 in c:\\users\\justin\\appdata\\local\\programs\\python\\python313\\lib\\site-packages (from librosa) (1.8.2)\n",
      "Requirement already satisfied: soxr>=0.3.2 in c:\\users\\justin\\appdata\\local\\programs\\python\\python313\\lib\\site-packages (from librosa) (0.5.0.post1)\n",
      "Requirement already satisfied: typing_extensions>=4.1.1 in c:\\users\\justin\\appdata\\local\\programs\\python\\python313\\lib\\site-packages (from librosa) (4.14.0)\n",
      "Requirement already satisfied: lazy_loader>=0.1 in c:\\users\\justin\\appdata\\local\\programs\\python\\python313\\lib\\site-packages (from librosa) (0.4)\n",
      "Requirement already satisfied: msgpack>=1.0 in c:\\users\\justin\\appdata\\local\\programs\\python\\python313\\lib\\site-packages (from librosa) (1.1.1)\n",
      "Requirement already satisfied: standard-aifc in c:\\users\\justin\\appdata\\local\\programs\\python\\python313\\lib\\site-packages (from librosa) (3.13.0)\n",
      "Requirement already satisfied: standard-sunau in c:\\users\\justin\\appdata\\local\\programs\\python\\python313\\lib\\site-packages (from librosa) (3.13.0)\n",
      "Requirement already satisfied: packaging in c:\\users\\justin\\appdata\\roaming\\python\\python313\\site-packages (from lazy_loader>=0.1->librosa) (25.0)\n",
      "Requirement already satisfied: llvmlite<0.45,>=0.44.0dev0 in c:\\users\\justin\\appdata\\local\\programs\\python\\python313\\lib\\site-packages (from numba>=0.51.0->librosa) (0.44.0)\n",
      "Requirement already satisfied: platformdirs>=2.5.0 in c:\\users\\justin\\appdata\\roaming\\python\\python313\\site-packages (from pooch>=1.1->librosa) (4.3.8)\n",
      "Requirement already satisfied: requests>=2.19.0 in c:\\users\\justin\\appdata\\local\\programs\\python\\python313\\lib\\site-packages (from pooch>=1.1->librosa) (2.32.4)\n",
      "Requirement already satisfied: charset_normalizer<4,>=2 in c:\\users\\justin\\appdata\\local\\programs\\python\\python313\\lib\\site-packages (from requests>=2.19.0->pooch>=1.1->librosa) (3.4.2)\n",
      "Requirement already satisfied: idna<4,>=2.5 in c:\\users\\justin\\appdata\\local\\programs\\python\\python313\\lib\\site-packages (from requests>=2.19.0->pooch>=1.1->librosa) (3.10)\n",
      "Requirement already satisfied: urllib3<3,>=1.21.1 in c:\\users\\justin\\appdata\\local\\programs\\python\\python313\\lib\\site-packages (from requests>=2.19.0->pooch>=1.1->librosa) (2.5.0)\n",
      "Requirement already satisfied: certifi>=2017.4.17 in c:\\users\\justin\\appdata\\local\\programs\\python\\python313\\lib\\site-packages (from requests>=2.19.0->pooch>=1.1->librosa) (2025.6.15)\n",
      "Requirement already satisfied: threadpoolctl>=3.1.0 in c:\\users\\justin\\appdata\\local\\programs\\python\\python313\\lib\\site-packages (from scikit-learn>=1.1.0->librosa) (3.6.0)\n",
      "Requirement already satisfied: cffi>=1.0 in c:\\users\\justin\\appdata\\local\\programs\\python\\python313\\lib\\site-packages (from soundfile>=0.12.1->librosa) (1.17.1)\n",
      "Requirement already satisfied: pycparser in c:\\users\\justin\\appdata\\local\\programs\\python\\python313\\lib\\site-packages (from cffi>=1.0->soundfile>=0.12.1->librosa) (2.22)\n",
      "Requirement already satisfied: standard-chunk in c:\\users\\justin\\appdata\\local\\programs\\python\\python313\\lib\\site-packages (from standard-aifc->librosa) (3.13.0)\n",
      "Requirement already satisfied: audioop-lts in c:\\users\\justin\\appdata\\local\\programs\\python\\python313\\lib\\site-packages (from standard-aifc->librosa) (0.2.1)\n"
     ]
    },
    {
     "name": "stderr",
     "output_type": "stream",
     "text": [
      "\n",
      "[notice] A new release of pip is available: 25.1.1 -> 25.2\n",
      "[notice] To update, run: python.exe -m pip install --upgrade pip\n",
      "\n",
      "[notice] A new release of pip is available: 25.1.1 -> 25.2\n",
      "[notice] To update, run: python.exe -m pip install --upgrade pip\n"
     ]
    },
    {
     "name": "stdout",
     "output_type": "stream",
     "text": [
      "Requirement already satisfied: forcealign in c:\\users\\justin\\appdata\\local\\programs\\python\\python313\\lib\\site-packages (1.1.9)\n",
      "Requirement already satisfied: torch>=2.2.1 in c:\\users\\justin\\appdata\\local\\programs\\python\\python313\\lib\\site-packages (from forcealign) (2.7.1)\n",
      "Requirement already satisfied: torchaudio>=2.2.1 in c:\\users\\justin\\appdata\\local\\programs\\python\\python313\\lib\\site-packages (from forcealign) (2.7.1)\n",
      "Requirement already satisfied: pydub>=0.25.1 in c:\\users\\justin\\appdata\\local\\programs\\python\\python313\\lib\\site-packages (from forcealign) (0.25.1)\n",
      "Requirement already satisfied: g2p-en>=2.1.0 in c:\\users\\justin\\appdata\\local\\programs\\python\\python313\\lib\\site-packages (from forcealign) (2.1.0)\n",
      "Requirement already satisfied: sox in c:\\users\\justin\\appdata\\local\\programs\\python\\python313\\lib\\site-packages (from forcealign) (1.5.0)\n",
      "Requirement already satisfied: soundfile in c:\\users\\justin\\appdata\\local\\programs\\python\\python313\\lib\\site-packages (from forcealign) (0.13.1)\n",
      "Requirement already satisfied: ffmpeg-python in c:\\users\\justin\\appdata\\local\\programs\\python\\python313\\lib\\site-packages (from forcealign) (0.2.0)\n",
      "Requirement already satisfied: numpy>=1.13.1 in c:\\users\\justin\\appdata\\local\\programs\\python\\python313\\lib\\site-packages (from g2p-en>=2.1.0->forcealign) (2.2.0)\n",
      "Requirement already satisfied: nltk>=3.2.4 in c:\\users\\justin\\appdata\\local\\programs\\python\\python313\\lib\\site-packages (from g2p-en>=2.1.0->forcealign) (3.9.1)\n",
      "Requirement already satisfied: inflect>=0.3.1 in c:\\users\\justin\\appdata\\local\\programs\\python\\python313\\lib\\site-packages (from g2p-en>=2.1.0->forcealign) (7.5.0)\n",
      "Requirement already satisfied: distance>=0.1.3 in c:\\users\\justin\\appdata\\local\\programs\\python\\python313\\lib\\site-packages (from g2p-en>=2.1.0->forcealign) (0.1.3)\n",
      "Requirement already satisfied: more_itertools>=8.5.0 in c:\\users\\justin\\appdata\\local\\programs\\python\\python313\\lib\\site-packages (from inflect>=0.3.1->g2p-en>=2.1.0->forcealign) (10.7.0)\n",
      "Requirement already satisfied: typeguard>=4.0.1 in c:\\users\\justin\\appdata\\local\\programs\\python\\python313\\lib\\site-packages (from inflect>=0.3.1->g2p-en>=2.1.0->forcealign) (4.4.4)\n",
      "Requirement already satisfied: click in c:\\users\\justin\\appdata\\local\\programs\\python\\python313\\lib\\site-packages (from nltk>=3.2.4->g2p-en>=2.1.0->forcealign) (8.2.1)\n",
      "Requirement already satisfied: joblib in c:\\users\\justin\\appdata\\local\\programs\\python\\python313\\lib\\site-packages (from nltk>=3.2.4->g2p-en>=2.1.0->forcealign) (1.5.1)\n",
      "Requirement already satisfied: regex>=2021.8.3 in c:\\users\\justin\\appdata\\local\\programs\\python\\python313\\lib\\site-packages (from nltk>=3.2.4->g2p-en>=2.1.0->forcealign) (2024.11.6)\n",
      "Requirement already satisfied: tqdm in c:\\users\\justin\\appdata\\local\\programs\\python\\python313\\lib\\site-packages (from nltk>=3.2.4->g2p-en>=2.1.0->forcealign) (4.67.1)\n",
      "Requirement already satisfied: filelock in c:\\users\\justin\\appdata\\local\\programs\\python\\python313\\lib\\site-packages (from torch>=2.2.1->forcealign) (3.18.0)\n",
      "Requirement already satisfied: typing-extensions>=4.10.0 in c:\\users\\justin\\appdata\\local\\programs\\python\\python313\\lib\\site-packages (from torch>=2.2.1->forcealign) (4.14.0)\n",
      "Requirement already satisfied: sympy>=1.13.3 in c:\\users\\justin\\appdata\\local\\programs\\python\\python313\\lib\\site-packages (from torch>=2.2.1->forcealign) (1.14.0)\n",
      "Requirement already satisfied: networkx in c:\\users\\justin\\appdata\\local\\programs\\python\\python313\\lib\\site-packages (from torch>=2.2.1->forcealign) (3.5)\n",
      "Requirement already satisfied: jinja2 in c:\\users\\justin\\appdata\\local\\programs\\python\\python313\\lib\\site-packages (from torch>=2.2.1->forcealign) (3.1.6)\n",
      "Requirement already satisfied: fsspec in c:\\users\\justin\\appdata\\local\\programs\\python\\python313\\lib\\site-packages (from torch>=2.2.1->forcealign) (2025.5.1)\n",
      "Requirement already satisfied: setuptools in c:\\users\\justin\\appdata\\local\\programs\\python\\python313\\lib\\site-packages (from torch>=2.2.1->forcealign) (80.9.0)\n",
      "Requirement already satisfied: mpmath<1.4,>=1.1.0 in c:\\users\\justin\\appdata\\local\\programs\\python\\python313\\lib\\site-packages (from sympy>=1.13.3->torch>=2.2.1->forcealign) (1.3.0)\n",
      "Requirement already satisfied: colorama in c:\\users\\justin\\appdata\\roaming\\python\\python313\\site-packages (from click->nltk>=3.2.4->g2p-en>=2.1.0->forcealign) (0.4.6)\n",
      "Requirement already satisfied: future in c:\\users\\justin\\appdata\\local\\programs\\python\\python313\\lib\\site-packages (from ffmpeg-python->forcealign) (1.0.0)\n",
      "Requirement already satisfied: MarkupSafe>=2.0 in c:\\users\\justin\\appdata\\local\\programs\\python\\python313\\lib\\site-packages (from jinja2->torch>=2.2.1->forcealign) (3.0.2)\n",
      "Requirement already satisfied: cffi>=1.0 in c:\\users\\justin\\appdata\\local\\programs\\python\\python313\\lib\\site-packages (from soundfile->forcealign) (1.17.1)\n",
      "Requirement already satisfied: pycparser in c:\\users\\justin\\appdata\\local\\programs\\python\\python313\\lib\\site-packages (from cffi>=1.0->soundfile->forcealign) (2.22)\n"
     ]
    }
   ],
   "source": [
    "## install for notebook\n",
    "!{sys.executable} -m pip install numpy\n",
    "!{sys.executable} -m pip install pandas\n",
    "!{sys.executable} -m pip install matplotlib\n",
    "!{sys.executable} -m pip install seaborn\n",
    "!{sys.executable} -m pip install librosa\n",
    "# !{sys.executable} -m pip install soundfile\n",
    "# !{sys.executable} -m pip install parselmouth\n",
    "!{sys.executable} -m pip install forcealign\n",
    "\n",
    "\n",
    "## general data processing libraries\n",
    "import numpy as np                 # data\n",
    "import pandas as pd                # data\n",
    "import matplotlib.pyplot as plt    # graphing\n",
    "import seaborn as sns              # graphing\n",
    "\n",
    "## general music libraries; processing audio\n",
    "import librosa                     # stereo to mono\n",
    "# import soundfile as sf             # export librosa mono audio \n",
    "\n",
    "## more audio processing\n",
    "# import parselmouth\n",
    "# from music21 import *\n",
    "from forcealign import ForceAlign\n",
    "# import forcealign"
   ]
  },
  {
   "cell_type": "markdown",
   "id": "9c6e16c0",
   "metadata": {},
   "source": [
    "Variables:"
   ]
  },
  {
   "cell_type": "code",
   "execution_count": 5,
   "id": "7a204c6d",
   "metadata": {},
   "outputs": [],
   "source": [
    "file_info = {\n",
    "    \"DL\": [1, 2, 3, 4, 6],\n",
    "    \"Emma\": [1, 2, 3, 4, 5],\n",
    "    \"Faces\": [1, 3, 4, 5, 6],\n",
    "    \"LW\": [1, 2, 3, 4, 5],\n",
    "    \"Tessi\": [1, 2, 3, 4, 5]\n",
    "}"
   ]
  },
  {
   "cell_type": "markdown",
   "id": "df381b8a",
   "metadata": {},
   "source": [
    "ForceAlign: word functions "
   ]
  },
  {
   "cell_type": "code",
   "execution_count": 6,
   "id": "d7153e4a",
   "metadata": {},
   "outputs": [],
   "source": [
    "\"\"\"\n",
    "return word labels, provided transcript and the file path of the audio file.\n",
    "\"\"\"\n",
    "def forcealign_label_words(transcript, audio_file_path, is_denoised=True):\n",
    "    align = ForceAlign(audio_file=audio_file_path+('audio_denoised.wav' if is_denoised else 'audio.wav'), transcript=transcript)\n",
    "\n",
    "    # Run prediction and return alignment results\n",
    "    words = align.inference()\n",
    "    # print(words)\n",
    "    return words\n",
    "\n",
    "\"\"\"\n",
    "print word labels to the screen, provided an array of words.\n",
    "\"\"\"\n",
    "def forcealign_print_words(words):\n",
    "    # Show predicted word-level alignments\n",
    "    for word in words:\n",
    "        print(f\"{word.time_start:.3f}\\t{word.time_end:.3f}\\t{word.word}\")\n",
    "        \n",
    "\"\"\"\n",
    "print word labels to the tool-name folder in the outputs folder, provided an array of words.\n",
    "\"\"\"\n",
    "def forcealign_output_words(words, file_path, is_denoised):\n",
    "    full_path = \"../outputs/\"+file_path+(\"/denoised/\" if is_denoised else \"/default/\")+\"forcealign/\"\n",
    "    if not os.path.exists(full_path):\n",
    "        os.makedirs(full_path)\n",
    "    with open(full_path+\"labels_word.txt\", \"w\") as f:\n",
    "        for word in words:\n",
    "            print(f\"{word.time_start:.3f}\\t{word.time_end:.3f}\\t{word.word}\", file=f)"
   ]
  },
  {
   "cell_type": "markdown",
   "id": "27217eda",
   "metadata": {},
   "source": [
    "ForceAlign: phoneme functions "
   ]
  },
  {
   "cell_type": "code",
   "execution_count": 7,
   "id": "c646fe96",
   "metadata": {},
   "outputs": [],
   "source": [
    "# \"\"\"\n",
    "# return phoneme labels, provided transcript and the file path of the audio file.\n",
    "# \"\"\"\n",
    "# def forcealign_label_phonemes(transcript, audio_file_path, is_denoised=True):\n",
    "#     align = ForceAlign(audio_file=audio_file_path+('audio_denoised.wav' if is_denoised else 'audio.wav'), transcript=transcript)\n",
    "\n",
    "#     # Run prediction and return alignment results\n",
    "#     words = align.inference()\n",
    "    \n",
    "#     for word in words:\n",
    "#         for p in word.phonemes:\n",
    "#             print(p)\n",
    "#             # print(f\"Phoneme: {p.phoneme}, Start: {p.time_start}s, End: {p.time_end}s\")\n",
    "    \n",
    "#     return words\n",
    "\n",
    "\n",
    "\n",
    "# \"\"\"\n",
    "# print phoneme labels to the screen, provided an array of phonemes.\n",
    "# \"\"\"\n",
    "# def forcealign_print_phonemes(words):\n",
    "#     # Show predicted word-level alignments\n",
    "#     for word in words:\n",
    "#         print(f\"{word.time_start:.3f}\\t{word.time_end:.3f}\\t{word.word}\")\n",
    "        \n",
    "# \"\"\"\n",
    "# print phoneme labels to the tool-name folder in the outputs folder, provided an array of phonemes.\n",
    "# \"\"\"\n",
    "# def forcealign_output_phonemes(words, file_path, is_denoised):\n",
    "#     full_path = \"../outputs/\"+file_path+(\"/denoised/\" if is_denoised else \"/default/\")+\"forcealign/\"\n",
    "#     if not os.path.exists(full_path):\n",
    "#         os.makedirs(full_path)\n",
    "#     with open(full_path+\"labels_word.txt\", \"w\") as f:\n",
    "#         for word in words:\n",
    "#             print(f\"{word.time_start:.3f}\\t{word.time_end:.3f}\\t{word.word}\", file=f)"
   ]
  },
  {
   "cell_type": "markdown",
   "id": "8ededa9d",
   "metadata": {},
   "source": [
    "Error:"
   ]
  },
  {
   "cell_type": "code",
   "execution_count": 75,
   "id": "597e2ded",
   "metadata": {},
   "outputs": [],
   "source": [
    "def calculate_error(measured, true):\n",
    "    return abs(measured - true)\n",
    "\n",
    "def forcealign_get_errors(folder, number, main_path, file_path, is_denoised, words, output_errors):\n",
    "\tlabel_words = []\n",
    "\tautomated_times = []\n",
    "\tmanual_times = []\n",
    "\terrors = []\n",
    "\n",
    "\tfor word in words:\n",
    "\t\tautomated_times.append([word.time_start, word.time_end])\n",
    "\t\tlabel_words.append(word.word)\n",
    "\n",
    "\tfor line in open(main_path+file_path+\"labels_word.txt\", \"r\"):\n",
    "\t\ttokens = line.split()\n",
    "\t\tmanual_times.append([float(tokens[0]), float(tokens[1])])\n",
    "\t\t\n",
    "\t# print(main_path, file_path)\n",
    "\t\t\n",
    "\tif len(automated_times) != len(manual_times):\n",
    "\t\tprint(f\"Manual and automated time labels for {folder}/{number} contains errors.\")\n",
    "\t\treturn\n",
    "\t\n",
    "\tfull_path = \"../outputs/\"+file_path+(\"/denoised/\" if is_denoised else \"/default/\")+\"forcealign/\"\n",
    "\tif not os.path.exists(full_path):\n",
    "\t\tos.makedirs(full_path)\n",
    "\twith open(full_path+\"errors_word.txt\", \"w\") as f:\n",
    "\t\tfor i in range(len(automated_times)):\n",
    "\t\t\ta_start, a_end = automated_times[i][0], automated_times[i][1]\n",
    "\t\t\tm_start, m_end = manual_times[i][0], manual_times[i][1]\n",
    "\n",
    "\t\t\tstart_error = calculate_error(a_start, m_start)\n",
    "\t\t\tend_error = calculate_error(a_end, m_end)\n",
    "\t\t\t\n",
    "\t\t\terrors.append([start_error, end_error, label_words[i]])\n",
    "\t\t\t\n",
    "\t\t\tif output_errors:\n",
    "\t\t\t\tprint(f\"{errors[i][0]:.5f}\\t{errors[i][1]:.5f}\\t{errors[i][2]}\", file=f)\n",
    "\t\n",
    "\treturn errors"
   ]
  },
  {
   "cell_type": "markdown",
   "id": "65dd4f19",
   "metadata": {},
   "source": [
    "To CSV:"
   ]
  },
  {
   "cell_type": "code",
   "execution_count": 88,
   "id": "de993e17",
   "metadata": {},
   "outputs": [],
   "source": [
    "import math\n",
    "\n",
    "def forcealign_csv_output_words(input_main_path, file_path, is_denoised, words):\n",
    "    audio_file = input_main_path + file_path + ('audio_denoised.wav' if is_denoised else 'audio.wav')\n",
    "    y, fs = librosa.load(audio_file)\n",
    "    \n",
    "    output_main_path = \"../outputs/\"\n",
    "    \n",
    "    avm_audacity = pd.read_table(\n",
    "        output_main_path + file_path + ('denoised/' if is_denoised else 'default/') + '/forcealign/labels_word.txt', \n",
    "        names=['Start','End','Words']\n",
    "    )\n",
    "    \n",
    "    f0, voiced_flag, voiced_probs = librosa.pyin(y,sr=fs, frame_length=2048, win_length=256,\n",
    "                                                 fmin=librosa.note_to_hz('C2'),\n",
    "                                                 fmax=librosa.note_to_hz('C7')\n",
    "    )\n",
    "    times = librosa.times_like(f0)\n",
    "    avmF0librosa = pd.DataFrame()\n",
    "    avmF0librosa['Time'] = times\n",
    "    avmF0librosa['Data'] = f0\n",
    "    \n",
    "    # calcaulate the mean F0 for each note in the Audacity annotations\n",
    "    num_words = len(words)\n",
    "    noteF0vals = []\n",
    "    noteF0mean = []\n",
    "    \n",
    "    with open(output_main_path + file_path + ('denoised/' if is_denoised else 'default/') + '/forcealign/output.csv', \"w\") as f:\n",
    "        headers = [\"ONSET TIME\", \"AVG PITCH IN HZ\", \"DURATION\"]\n",
    "        print(f\"{headers[0]}, {headers[1]}, {headers[2]}\", file=f)\n",
    "        \n",
    "        for i in range(num_words):\n",
    "            idx1 = (np.abs(avmF0librosa['Time'] - avm_audacity['Start'][i])).argmin()\n",
    "            idx2 = (np.abs(avmF0librosa['Time'] - avm_audacity['End'][i])).argmin()\n",
    "            noteF0vals.append(avmF0librosa['Data'][idx1:idx2])\n",
    "            avg_pitch_in_hz = np.mean(noteF0vals[i])\n",
    "            noteF0mean.append(avg_pitch_in_hz)\n",
    "            \n",
    "            output_string = f\"{words[i].time_start:.3f}, {avg_pitch_in_hz:.3f}, {words[i].time_end - words[i].time_start:.3f}\"\n",
    "            if math.isnan(avg_pitch_in_hz): \n",
    "                output_string = f\"{words[i].time_start:.3f}, {\"nan\"}, {words[i].time_end - words[i].time_start:.3f}\"\n",
    "            \n",
    "            print(output_string, file=f)\n",
    "    # print(noteF0mean)"
   ]
  },
  {
   "cell_type": "markdown",
   "id": "335b8a11",
   "metadata": {},
   "source": [
    "Main function:"
   ]
  },
  {
   "cell_type": "code",
   "execution_count": 87,
   "id": "f1aabb0e",
   "metadata": {},
   "outputs": [],
   "source": [
    "def forcealign_generate_data(is_denoised, ignore_ends, print_words, print_errors, output_words, output_errors):\n",
    "    words_dict = {}\n",
    "    errors_dict = {}\n",
    "    for folder, numbers in file_info.items():\n",
    "        words_dict[folder] = {}\n",
    "        errors_dict[folder] = {}\n",
    "        for number in numbers:\n",
    "            # if folder != \"DL\" or number != 1:\n",
    "            #     break\n",
    "            \n",
    "            '''directories and data'''\n",
    "            main_path = \"../data/\"\n",
    "            file_path = folder+\"/\"+str(number)+\"/\"\n",
    "            \n",
    "            transcript_file = open(main_path+file_path+\"text.txt\", \"r\")\n",
    "            transcript = transcript_file.readline()\n",
    "            \n",
    "            \n",
    "            '''word/phoneme processing functions'''\n",
    "            # forcealign_label_phonemes(transcript, main_path+file_path, is_denoised)\n",
    "            words = forcealign_label_words(transcript, main_path+file_path, is_denoised)\n",
    "            words_dict[folder][number] = words\n",
    "            \n",
    "            if print_words:\n",
    "                forcealign_print_words(words)\n",
    "\n",
    "            if output_words: \n",
    "                forcealign_output_words(words, file_path, is_denoised)\n",
    "            \n",
    "            \n",
    "            ''' error functions '''\n",
    "            errors = forcealign_get_errors(folder, number, main_path, file_path, is_denoised, words, output_errors)\n",
    "\n",
    "            if errors is None:\n",
    "                print(f\"{folder}/{number}: an error occurred when trying to access the errors\")\n",
    "                continue\n",
    "                \n",
    "            num_rows = len(errors)\n",
    "            start_accum = 0\n",
    "            end_accum = 0\n",
    "            for i in range(0, num_rows):\n",
    "                start_accum += 0 if ignore_ends and i == 0 else errors[i][0]\n",
    "                end_accum += 0 if ignore_ends and i == num_rows - 1 else errors[i][1]\n",
    "            \n",
    "            if ignore_ends and num_rows == 1:\n",
    "                print(f\"{folder}/{number}: an error occurred when trying to calculate the errors: text contains only 1 word\")\n",
    "                continue\n",
    "            start_avg = start_accum/(num_rows if not ignore_ends else num_rows - 1)\n",
    "            end_avg = end_accum/(num_rows if not ignore_ends else num_rows - 1)\n",
    "\n",
    "            error_string = f\"{start_avg:.9}\\t{end_avg:.9}\\t{folder}/{number}\"\n",
    "            if print_errors:\n",
    "                print(error_string)\n",
    "            errors_dict[folder][number] = {start_avg: start_avg, end_avg: end_avg}\n",
    "            \n",
    "            \n",
    "            '''generate csv output'''\n",
    "            forcealign_csv_output_words(main_path, file_path, is_denoised, words)\n",
    "    \n",
    "    return words_dict, errors_dict\n"
   ]
  },
  {
   "cell_type": "markdown",
   "id": "b3e4ebf7",
   "metadata": {},
   "source": [
    "Use main function:"
   ]
  },
  {
   "cell_type": "code",
   "execution_count": 91,
   "id": "3e1b026c",
   "metadata": {},
   "outputs": [
    {
     "name": "stderr",
     "output_type": "stream",
     "text": [
      "C:\\Users\\Justin\\AppData\\Local\\Temp\\ipykernel_21036\\3134372175.py:58: FutureWarning: The win_length parameter has been deprecated in version 0.11.0 and has no effect. It will be removed in version 1.0.0.\n",
      "  forcealign_csv_output_words(main_path, file_path, is_denoised, words)\n",
      "C:\\Users\\Justin\\AppData\\Local\\Temp\\ipykernel_21036\\3134372175.py:58: FutureWarning: The win_length parameter has been deprecated in version 0.11.0 and has no effect. It will be removed in version 1.0.0.\n",
      "  forcealign_csv_output_words(main_path, file_path, is_denoised, words)\n",
      "C:\\Users\\Justin\\AppData\\Local\\Temp\\ipykernel_21036\\3134372175.py:58: FutureWarning: The win_length parameter has been deprecated in version 0.11.0 and has no effect. It will be removed in version 1.0.0.\n",
      "  forcealign_csv_output_words(main_path, file_path, is_denoised, words)\n",
      "C:\\Users\\Justin\\AppData\\Local\\Temp\\ipykernel_21036\\3134372175.py:58: FutureWarning: The win_length parameter has been deprecated in version 0.11.0 and has no effect. It will be removed in version 1.0.0.\n",
      "  forcealign_csv_output_words(main_path, file_path, is_denoised, words)\n",
      "C:\\Users\\Justin\\AppData\\Local\\Temp\\ipykernel_21036\\3134372175.py:58: FutureWarning: The win_length parameter has been deprecated in version 0.11.0 and has no effect. It will be removed in version 1.0.0.\n",
      "  forcealign_csv_output_words(main_path, file_path, is_denoised, words)\n",
      "C:\\Users\\Justin\\AppData\\Local\\Temp\\ipykernel_21036\\3134372175.py:58: FutureWarning: The win_length parameter has been deprecated in version 0.11.0 and has no effect. It will be removed in version 1.0.0.\n",
      "  forcealign_csv_output_words(main_path, file_path, is_denoised, words)\n",
      "C:\\Users\\Justin\\AppData\\Local\\Temp\\ipykernel_21036\\3134372175.py:58: FutureWarning: The win_length parameter has been deprecated in version 0.11.0 and has no effect. It will be removed in version 1.0.0.\n",
      "  forcealign_csv_output_words(main_path, file_path, is_denoised, words)\n",
      "C:\\Users\\Justin\\AppData\\Local\\Temp\\ipykernel_21036\\3134372175.py:58: FutureWarning: The win_length parameter has been deprecated in version 0.11.0 and has no effect. It will be removed in version 1.0.0.\n",
      "  forcealign_csv_output_words(main_path, file_path, is_denoised, words)\n",
      "C:\\Users\\Justin\\AppData\\Local\\Temp\\ipykernel_21036\\3134372175.py:58: FutureWarning: The win_length parameter has been deprecated in version 0.11.0 and has no effect. It will be removed in version 1.0.0.\n",
      "  forcealign_csv_output_words(main_path, file_path, is_denoised, words)\n",
      "C:\\Users\\Justin\\AppData\\Local\\Temp\\ipykernel_21036\\3134372175.py:58: FutureWarning: The win_length parameter has been deprecated in version 0.11.0 and has no effect. It will be removed in version 1.0.0.\n",
      "  forcealign_csv_output_words(main_path, file_path, is_denoised, words)\n",
      "C:\\Users\\Justin\\AppData\\Local\\Temp\\ipykernel_21036\\3134372175.py:58: FutureWarning: The win_length parameter has been deprecated in version 0.11.0 and has no effect. It will be removed in version 1.0.0.\n",
      "  forcealign_csv_output_words(main_path, file_path, is_denoised, words)\n",
      "C:\\Users\\Justin\\AppData\\Local\\Temp\\ipykernel_21036\\3134372175.py:58: FutureWarning: The win_length parameter has been deprecated in version 0.11.0 and has no effect. It will be removed in version 1.0.0.\n",
      "  forcealign_csv_output_words(main_path, file_path, is_denoised, words)\n",
      "C:\\Users\\Justin\\AppData\\Local\\Temp\\ipykernel_21036\\3134372175.py:58: FutureWarning: The win_length parameter has been deprecated in version 0.11.0 and has no effect. It will be removed in version 1.0.0.\n",
      "  forcealign_csv_output_words(main_path, file_path, is_denoised, words)\n",
      "C:\\Users\\Justin\\AppData\\Local\\Temp\\ipykernel_21036\\3134372175.py:58: FutureWarning: The win_length parameter has been deprecated in version 0.11.0 and has no effect. It will be removed in version 1.0.0.\n",
      "  forcealign_csv_output_words(main_path, file_path, is_denoised, words)\n",
      "C:\\Users\\Justin\\AppData\\Local\\Temp\\ipykernel_21036\\3134372175.py:58: FutureWarning: The win_length parameter has been deprecated in version 0.11.0 and has no effect. It will be removed in version 1.0.0.\n",
      "  forcealign_csv_output_words(main_path, file_path, is_denoised, words)\n",
      "C:\\Users\\Justin\\AppData\\Local\\Temp\\ipykernel_21036\\3134372175.py:58: FutureWarning: The win_length parameter has been deprecated in version 0.11.0 and has no effect. It will be removed in version 1.0.0.\n",
      "  forcealign_csv_output_words(main_path, file_path, is_denoised, words)\n",
      "C:\\Users\\Justin\\AppData\\Local\\Temp\\ipykernel_21036\\3134372175.py:58: FutureWarning: The win_length parameter has been deprecated in version 0.11.0 and has no effect. It will be removed in version 1.0.0.\n",
      "  forcealign_csv_output_words(main_path, file_path, is_denoised, words)\n",
      "C:\\Users\\Justin\\AppData\\Local\\Temp\\ipykernel_21036\\3134372175.py:58: FutureWarning: The win_length parameter has been deprecated in version 0.11.0 and has no effect. It will be removed in version 1.0.0.\n",
      "  forcealign_csv_output_words(main_path, file_path, is_denoised, words)\n",
      "C:\\Users\\Justin\\AppData\\Local\\Temp\\ipykernel_21036\\3134372175.py:58: FutureWarning: The win_length parameter has been deprecated in version 0.11.0 and has no effect. It will be removed in version 1.0.0.\n",
      "  forcealign_csv_output_words(main_path, file_path, is_denoised, words)\n",
      "C:\\Users\\Justin\\AppData\\Local\\Temp\\ipykernel_21036\\3134372175.py:58: FutureWarning: The win_length parameter has been deprecated in version 0.11.0 and has no effect. It will be removed in version 1.0.0.\n",
      "  forcealign_csv_output_words(main_path, file_path, is_denoised, words)\n",
      "C:\\Users\\Justin\\AppData\\Local\\Temp\\ipykernel_21036\\3134372175.py:58: FutureWarning: The win_length parameter has been deprecated in version 0.11.0 and has no effect. It will be removed in version 1.0.0.\n",
      "  forcealign_csv_output_words(main_path, file_path, is_denoised, words)\n",
      "C:\\Users\\Justin\\AppData\\Local\\Temp\\ipykernel_21036\\3134372175.py:58: FutureWarning: The win_length parameter has been deprecated in version 0.11.0 and has no effect. It will be removed in version 1.0.0.\n",
      "  forcealign_csv_output_words(main_path, file_path, is_denoised, words)\n",
      "C:\\Users\\Justin\\AppData\\Local\\Temp\\ipykernel_21036\\3134372175.py:58: FutureWarning: The win_length parameter has been deprecated in version 0.11.0 and has no effect. It will be removed in version 1.0.0.\n",
      "  forcealign_csv_output_words(main_path, file_path, is_denoised, words)\n",
      "C:\\Users\\Justin\\AppData\\Local\\Temp\\ipykernel_21036\\3134372175.py:58: FutureWarning: The win_length parameter has been deprecated in version 0.11.0 and has no effect. It will be removed in version 1.0.0.\n",
      "  forcealign_csv_output_words(main_path, file_path, is_denoised, words)\n",
      "C:\\Users\\Justin\\AppData\\Local\\Temp\\ipykernel_21036\\3134372175.py:58: FutureWarning: The win_length parameter has been deprecated in version 0.11.0 and has no effect. It will be removed in version 1.0.0.\n",
      "  forcealign_csv_output_words(main_path, file_path, is_denoised, words)\n"
     ]
    }
   ],
   "source": [
    "is_denoised = False # if True: uses the denoised audio file to get the words\n",
    "ignore_ends = True # if True: ignore the FIRST ONSET time and the LAST OFFSET time\n",
    "print_words = False\n",
    "print_errors = False\n",
    "output_words = True\n",
    "output_errors = True\n",
    "\n",
    "words, errors = forcealign_generate_data(is_denoised, ignore_ends, print_words, print_errors, output_words, output_errors)\n",
    "\n",
    "# print(words)\n",
    "# print(errors)"
   ]
  }
 ],
 "metadata": {
  "kernelspec": {
   "display_name": "Python 3",
   "language": "python",
   "name": "python3"
  },
  "language_info": {
   "codemirror_mode": {
    "name": "ipython",
    "version": 3
   },
   "file_extension": ".py",
   "mimetype": "text/x-python",
   "name": "python",
   "nbconvert_exporter": "python",
   "pygments_lexer": "ipython3",
   "version": "3.13.2"
  }
 },
 "nbformat": 4,
 "nbformat_minor": 5
}
